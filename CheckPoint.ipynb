{
 "cells": [
  {
   "cell_type": "markdown",
   "metadata": {},
   "source": [
    "# Exo 1\n",
    "    "
   ]
  },
  {
   "cell_type": "code",
   "execution_count": 2,
   "metadata": {},
   "outputs": [
    {
     "name": "stdout",
     "output_type": "stream",
     "text": [
      "les nombre entre '2000 et 3200' qui sont divisible par 7 et pas par 5 sont: [2002, 2009, 2016, 2023, 2037, 2044, 2051, 2058, 2072, 2079, 2086, 2093, 2107, 2114, 2121, 2128, 2142, 2149, 2156, 2163, 2177, 2184, 2191, 2198, 2212, 2219, 2226, 2233, 2247, 2254, 2261, 2268, 2282, 2289, 2296, 2303, 2317, 2324, 2331, 2338, 2352, 2359, 2366, 2373, 2387, 2394, 2401, 2408, 2422, 2429, 2436, 2443, 2457, 2464, 2471, 2478, 2492, 2499, 2506, 2513, 2527, 2534, 2541, 2548, 2562, 2569, 2576, 2583, 2597, 2604, 2611, 2618, 2632, 2639, 2646, 2653, 2667, 2674, 2681, 2688, 2702, 2709, 2716, 2723, 2737, 2744, 2751, 2758, 2772, 2779, 2786, 2793, 2807, 2814, 2821, 2828, 2842, 2849, 2856, 2863, 2877, 2884, 2891, 2898, 2912, 2919, 2926, 2933, 2947, 2954, 2961, 2968, 2982, 2989, 2996, 3003, 3017, 3024, 3031, 3038, 3052, 3059, 3066, 3073, 3087, 3094, 3101, 3108, 3122, 3129, 3136, 3143, 3157, 3164, 3171, 3178, 3192, 3199]\n"
     ]
    }
   ],
   "source": [
    "div_7=[]\n",
    "for i in range(2000,3200):\n",
    "    if i%7==0 and i%5!=0:\n",
    "        div_7.append(i)\n",
    "\n",
    "print(\"les nombre entre '2000 et 3200' qui sont divisible par 7 et pas par 5 sont:\", div_7)"
   ]
  },
  {
   "cell_type": "markdown",
   "metadata": {},
   "source": [
    "# Exo 2"
   ]
  },
  {
   "cell_type": "code",
   "execution_count": 3,
   "metadata": {},
   "outputs": [
    {
     "name": "stdout",
     "output_type": "stream",
     "text": [
      "donner un nombre: 5\n",
      "le factoriel de  5  est:  120\n"
     ]
    }
   ],
   "source": [
    "x=int(input(\"donner un nombre: \"))\n",
    "j=x\n",
    "fact=x\n",
    "while x!=0:\n",
    "    x=x-1\n",
    "    if x!=0:\n",
    "        fact=fact*x\n",
    "print(\"le factoriel de \",j,\" est: \",fact)"
   ]
  },
  {
   "cell_type": "markdown",
   "metadata": {},
   "source": [
    "# Exo 3"
   ]
  },
  {
   "cell_type": "code",
   "execution_count": 4,
   "metadata": {},
   "outputs": [
    {
     "name": "stdout",
     "output_type": "stream",
     "text": [
      "entrer le nobre de valeur dans le dictionnaire: 8\n",
      "{1: 1, 2: 4, 3: 9, 4: 16, 5: 25, 6: 36, 7: 49, 8: 64}\n"
     ]
    }
   ],
   "source": [
    "n=int(input(\"entrer le nobre de valeur dans le dictionnaire: \" ))\n",
    "a=[i for i in range(1,n+1)]\n",
    "b=[i**2 for i in range(1,n+1)]\n",
    "Dico={a:b for a,b in zip(a,b)}\n",
    "print(Dico)"
   ]
  },
  {
   "cell_type": "markdown",
   "metadata": {},
   "source": [
    "# Exo 4"
   ]
  },
  {
   "cell_type": "code",
   "execution_count": 15,
   "metadata": {},
   "outputs": [
    {
     "name": "stdout",
     "output_type": "stream",
     "text": [
      "entrer votre mot: chat\n",
      "entre l'index a supprimé: 2\n",
      "la lettre que vous avez supprimé est a => cht\n"
     ]
    }
   ],
   "source": [
    "x=input(\"entrer votre mot: \")\n",
    "while not x.strip():\n",
    "    x=input(\"entrer votre mot: \")\n",
    "i=int(input(\"entre l'index a supprimé: \"))\n",
    "if len(x)>i:\n",
    "    print(\"la lettre que vous avez supprimé est\",x[i],\"=>\",x[0:i:]+x[i+1::])\n",
    "else:\n",
    "    print(\"l'index est superieur a la longeur\")"
   ]
  },
  {
   "cell_type": "markdown",
   "metadata": {},
   "source": [
    "# Exo 5"
   ]
  },
  {
   "cell_type": "code",
   "execution_count": 16,
   "metadata": {},
   "outputs": [
    {
     "name": "stdout",
     "output_type": "stream",
     "text": [
      "Array to list:  [[0, 1], [2, 3], [4, 5]]\n"
     ]
    }
   ],
   "source": [
    "import numpy as np\n",
    "\n",
    "a=np.array([[0,1],[2,3],[4,5]])\n",
    "b=a.tolist()\n",
    "\n",
    "print(\"Array to list: \", b)"
   ]
  },
  {
   "cell_type": "markdown",
   "metadata": {},
   "source": [
    "# Exo 6 "
   ]
  },
  {
   "cell_type": "code",
   "execution_count": 17,
   "metadata": {},
   "outputs": [
    {
     "name": "stdout",
     "output_type": "stream",
     "text": [
      "la covariance de x et y est:  [[ 1. -1.]\n",
      " [-1.  1.]]\n"
     ]
    }
   ],
   "source": [
    "import numpy as np\n",
    "\n",
    "x=np.array([[0,1,2]])\n",
    "y=np.array([[2,1,0]])\n",
    "cov=np.cov(x,y)\n",
    "print(\"la covariance de x et y est: \", cov)  "
   ]
  },
  {
   "cell_type": "markdown",
   "metadata": {},
   "source": [
    "#  Exo 7"
   ]
  },
  {
   "cell_type": "code",
   "execution_count": 18,
   "metadata": {},
   "outputs": [
    {
     "name": "stdout",
     "output_type": "stream",
     "text": [
      "entrer la valeur de d1: 100\n",
      "entrer la valeur de d2: 150\n",
      "entrer la valeur de d3: 180\n",
      "La valeur de Q 1 est: 18\n",
      "La valeur de Q 2 est: 22\n",
      "La valeur de Q 3 est: 24\n"
     ]
    }
   ],
   "source": [
    "from math import *\n",
    "q=[]\n",
    "c=50\n",
    "h=30\n",
    "d=[int(input(\"entrer la valeur de d1: \")),int(input(\"entrer la valeur de d2: \")),int(input(\"entrer la valeur de d3: \"))]\n",
    "for i in d:\n",
    "    x=sqrt(2*c*i/h)\n",
    "    q.append(x)\n",
    "for i in  range(0,3):\n",
    "    print(\"La valeur de Q\",i+1,\"est:\",round(q[i]))"
   ]
  },
  {
   "cell_type": "code",
   "execution_count": null,
   "metadata": {},
   "outputs": [],
   "source": []
  }
 ],
 "metadata": {
  "kernelspec": {
   "display_name": "Python 3",
   "language": "python",
   "name": "python3"
  },
  "language_info": {
   "codemirror_mode": {
    "name": "ipython",
    "version": 3
   },
   "file_extension": ".py",
   "mimetype": "text/x-python",
   "name": "python",
   "nbconvert_exporter": "python",
   "pygments_lexer": "ipython3",
   "version": "3.8.3"
  }
 },
 "nbformat": 4,
 "nbformat_minor": 4
}
